{
 "cells": [
  {
   "cell_type": "markdown",
   "metadata": {},
   "source": [
    "# Object-Oriented-Programming (OOP)"
   ]
  },
  {
   "cell_type": "markdown",
   "metadata": {},
   "source": [
    "## Tasks Today:\n",
    "\n",
    "   \n",
    "\n",
    "1) <b>Creating a Class (Initializing/Declaring)</b> <br>\n",
    "2) <b>Using a Class (Instantiating)</b> <br>\n",
    " &nbsp;&nbsp;&nbsp;&nbsp; a) Creating One Instance <br>\n",
    " &nbsp;&nbsp;&nbsp;&nbsp; b) Creating Multiple Instances <br>\n",
    " &nbsp;&nbsp;&nbsp;&nbsp; c) In-Class Exercise #1 - Create a Class 'Car' and instantiate three different makes of cars <br>\n",
    "3) <b>The \\__init\\__() Method</b> <br>\n",
    " &nbsp;&nbsp;&nbsp;&nbsp; a) The 'self' Attribute <br>\n",
    "4) <b>Class Attributes</b> <br>\n",
    " &nbsp;&nbsp;&nbsp;&nbsp; a) Initializing Attributes <br>\n",
    " &nbsp;&nbsp;&nbsp;&nbsp; b) Setting an Attribute Outside of the \\__init\\__() Method <br>\n",
    " &nbsp;&nbsp;&nbsp;&nbsp; c) Setting Defaults for Attributes <br>\n",
    " &nbsp;&nbsp;&nbsp;&nbsp; d) Accessing Class Attributes <br>\n",
    " &nbsp;&nbsp;&nbsp;&nbsp; e) Changing Class Attributes <br>\n",
    " &nbsp;&nbsp;&nbsp;&nbsp; f) In-Class Exercise #2 - Add a color and wheels attribute to your 'Car' class <br>\n",
    "5) <b>Class Methods</b> <br>\n",
    " &nbsp;&nbsp;&nbsp;&nbsp; a) Creating <br>\n",
    " &nbsp;&nbsp;&nbsp;&nbsp; b) Calling <br>\n",
    " &nbsp;&nbsp;&nbsp;&nbsp; c) Modifying an Attribute's Value Through a Method <br>\n",
    " &nbsp;&nbsp;&nbsp;&nbsp; d) Incrementing an Attribute's Value Through a Method <br>\n",
    " &nbsp;&nbsp;&nbsp;&nbsp; e) In-Class Exercise #3 - Add a method that prints the cars color and wheel number, then call them <br>\n",
    "6) <b>Inheritance</b> <br>\n",
    " &nbsp;&nbsp;&nbsp;&nbsp; a) Syntax for Inheriting from a Parent Class <br>\n",
    " &nbsp;&nbsp;&nbsp;&nbsp; b) The \\__init\\__() Method for a Child Class (super()) <br>\n",
    " &nbsp;&nbsp;&nbsp;&nbsp; c) Defining Attributes and Methods for the Child Class <br>\n",
    " &nbsp;&nbsp;&nbsp;&nbsp; d) Method Overriding <br>\n",
    " &nbsp;&nbsp;&nbsp;&nbsp; e) In-Class Exercise #4 - Create a class 'Ford' that inherits from 'Car' class and initialize it as a Blue Ford Explorer with 4 wheels using the super() method <br>\n",
    "7) <b>Classes as Attributes</b> <br>\n",
    "8) <b>Exercises</b> <br>\n",
    " &nbsp;&nbsp;&nbsp;&nbsp; a) Exercise #1 - Turn the shopping cart program from yesterday into an object-oriented program <br>"
   ]
  },
  {
   "cell_type": "code",
   "execution_count": 53,
   "metadata": {},
   "outputs": [
    {
     "name": "stdout",
     "output_type": "stream",
     "text": [
      "Here is your cart....\n",
      "pop\n",
      "lok\n"
     ]
    },
    {
     "ename": "KeyboardInterrupt",
     "evalue": "Interrupted by user",
     "output_type": "error",
     "traceback": [
      "\u001b[0;31m---------------------------------------------------------------------------\u001b[0m",
      "\u001b[0;31mKeyboardInterrupt\u001b[0m                         Traceback (most recent call last)",
      "\u001b[0;32m<ipython-input-53-dfdabb3cd606>\u001b[0m in \u001b[0;36m<module>\u001b[0;34m\u001b[0m\n\u001b[1;32m     43\u001b[0m             \u001b[0mprint\u001b[0m\u001b[0;34m(\u001b[0m\u001b[0;34m'please enter a valid command'\u001b[0m\u001b[0;34m)\u001b[0m\u001b[0;34m\u001b[0m\u001b[0;34m\u001b[0m\u001b[0m\n\u001b[1;32m     44\u001b[0m \u001b[0;34m\u001b[0m\u001b[0m\n\u001b[0;32m---> 45\u001b[0;31m \u001b[0mshoppingList\u001b[0m\u001b[0;34m(\u001b[0m\u001b[0;34m)\u001b[0m\u001b[0;34m\u001b[0m\u001b[0;34m\u001b[0m\u001b[0m\n\u001b[0m",
      "\u001b[0;32m<ipython-input-53-dfdabb3cd606>\u001b[0m in \u001b[0;36mshoppingList\u001b[0;34m()\u001b[0m\n\u001b[1;32m     23\u001b[0m \u001b[0;32mdef\u001b[0m \u001b[0mshoppingList\u001b[0m\u001b[0;34m(\u001b[0m\u001b[0;34m)\u001b[0m\u001b[0;34m:\u001b[0m\u001b[0;34m\u001b[0m\u001b[0;34m\u001b[0m\u001b[0m\n\u001b[1;32m     24\u001b[0m     \u001b[0;32mwhile\u001b[0m \u001b[0;32mTrue\u001b[0m\u001b[0;34m:\u001b[0m\u001b[0;34m\u001b[0m\u001b[0;34m\u001b[0m\u001b[0m\n\u001b[0;32m---> 25\u001b[0;31m         \u001b[0mask\u001b[0m \u001b[0;34m=\u001b[0m \u001b[0minput\u001b[0m\u001b[0;34m(\u001b[0m\u001b[0;34m'Do you want to : Show/Add/Delete or Quit?'\u001b[0m\u001b[0;34m)\u001b[0m\u001b[0;34m\u001b[0m\u001b[0;34m\u001b[0m\u001b[0m\n\u001b[0m\u001b[1;32m     26\u001b[0m         \u001b[0;32mif\u001b[0m \u001b[0mask\u001b[0m\u001b[0;34m.\u001b[0m\u001b[0mlower\u001b[0m\u001b[0;34m(\u001b[0m\u001b[0;34m)\u001b[0m \u001b[0;34m==\u001b[0m \u001b[0;34m'quit'\u001b[0m\u001b[0;34m:\u001b[0m\u001b[0;34m\u001b[0m\u001b[0;34m\u001b[0m\u001b[0m\n\u001b[1;32m     27\u001b[0m             \u001b[0mshowCart\u001b[0m\u001b[0;34m(\u001b[0m\u001b[0;34m)\u001b[0m\u001b[0;34m\u001b[0m\u001b[0;34m\u001b[0m\u001b[0m\n",
      "\u001b[0;32m~/opt/anaconda3/lib/python3.8/site-packages/ipykernel/kernelbase.py\u001b[0m in \u001b[0;36mraw_input\u001b[0;34m(self, prompt)\u001b[0m\n\u001b[1;32m    858\u001b[0m                 \u001b[0;34m\"raw_input was called, but this frontend does not support input requests.\"\u001b[0m\u001b[0;34m\u001b[0m\u001b[0;34m\u001b[0m\u001b[0m\n\u001b[1;32m    859\u001b[0m             )\n\u001b[0;32m--> 860\u001b[0;31m         return self._input_request(str(prompt),\n\u001b[0m\u001b[1;32m    861\u001b[0m             \u001b[0mself\u001b[0m\u001b[0;34m.\u001b[0m\u001b[0m_parent_ident\u001b[0m\u001b[0;34m,\u001b[0m\u001b[0;34m\u001b[0m\u001b[0;34m\u001b[0m\u001b[0m\n\u001b[1;32m    862\u001b[0m             \u001b[0mself\u001b[0m\u001b[0;34m.\u001b[0m\u001b[0m_parent_header\u001b[0m\u001b[0;34m,\u001b[0m\u001b[0;34m\u001b[0m\u001b[0;34m\u001b[0m\u001b[0m\n",
      "\u001b[0;32m~/opt/anaconda3/lib/python3.8/site-packages/ipykernel/kernelbase.py\u001b[0m in \u001b[0;36m_input_request\u001b[0;34m(self, prompt, ident, parent, password)\u001b[0m\n\u001b[1;32m    902\u001b[0m             \u001b[0;32mexcept\u001b[0m \u001b[0mKeyboardInterrupt\u001b[0m\u001b[0;34m:\u001b[0m\u001b[0;34m\u001b[0m\u001b[0;34m\u001b[0m\u001b[0m\n\u001b[1;32m    903\u001b[0m                 \u001b[0;31m# re-raise KeyboardInterrupt, to truncate traceback\u001b[0m\u001b[0;34m\u001b[0m\u001b[0;34m\u001b[0m\u001b[0;34m\u001b[0m\u001b[0m\n\u001b[0;32m--> 904\u001b[0;31m                 \u001b[0;32mraise\u001b[0m \u001b[0mKeyboardInterrupt\u001b[0m\u001b[0;34m(\u001b[0m\u001b[0;34m\"Interrupted by user\"\u001b[0m\u001b[0;34m)\u001b[0m \u001b[0;32mfrom\u001b[0m \u001b[0;32mNone\u001b[0m\u001b[0;34m\u001b[0m\u001b[0;34m\u001b[0m\u001b[0m\n\u001b[0m\u001b[1;32m    905\u001b[0m             \u001b[0;32mexcept\u001b[0m \u001b[0mException\u001b[0m \u001b[0;32mas\u001b[0m \u001b[0me\u001b[0m\u001b[0;34m:\u001b[0m\u001b[0;34m\u001b[0m\u001b[0;34m\u001b[0m\u001b[0m\n\u001b[1;32m    906\u001b[0m                 \u001b[0mself\u001b[0m\u001b[0;34m.\u001b[0m\u001b[0mlog\u001b[0m\u001b[0;34m.\u001b[0m\u001b[0mwarning\u001b[0m\u001b[0;34m(\u001b[0m\u001b[0;34m\"Invalid Message:\"\u001b[0m\u001b[0;34m,\u001b[0m \u001b[0mexc_info\u001b[0m\u001b[0;34m=\u001b[0m\u001b[0;32mTrue\u001b[0m\u001b[0;34m)\u001b[0m\u001b[0;34m\u001b[0m\u001b[0;34m\u001b[0m\u001b[0m\n",
      "\u001b[0;31mKeyboardInterrupt\u001b[0m: Interrupted by user"
     ]
    }
   ],
   "source": [
    "from IPython.display import clear_output\n",
    "\n",
    "cart = []\n",
    "def addItem(item):\n",
    "    clear_output()\n",
    "    cart.append(item)\n",
    "    \n",
    "def deleteItem(item):\n",
    "    clear_output()\n",
    "    cart.remove(item)\n",
    "\n",
    "def showCart():\n",
    "    clear_output()\n",
    "    print('Here is your cart....')\n",
    "    for item in cart:\n",
    "        print(item)\n",
    "        \n",
    "def clearCart():\n",
    "    clear_output()\n",
    "    cart.clear()\n",
    "    print('Your cart is now empty....')\n",
    "    \n",
    "def shoppingList():\n",
    "    while True:\n",
    "        ask = input('Do you want to : Show/Add/Delete or Quit?')\n",
    "        if ask.lower() == 'quit':\n",
    "            showCart()\n",
    "            break\n",
    "        elif ask.lower() == 'add':\n",
    "            item = input('WHat should we add?')\n",
    "            addItem(item)\n",
    "        elif ask.lower() == 'delete':\n",
    "            showCart()\n",
    "            item = input('WHat should we add?')\n",
    "            deleteItem(item)\n",
    "            print('items deleted...')\n",
    "            showCart()    \n",
    "        elif ask.lower() == 'show':\n",
    "            showCart()     \n",
    "        elif ask.lower() == 'clear':\n",
    "            clearCart()\n",
    "        else:\n",
    "            print('please enter a valid command')\n",
    "            \n",
    "shoppingList()"
   ]
  },
  {
   "cell_type": "markdown",
   "metadata": {},
   "source": [
    "## Creating a Class (Initializing/Declaring)\n",
    "<p>When creating a class, function, or even a variable you are initializing that object. Initializing and Declaring occur at the same time in Python, whereas in lower level languages you have to declare an object before initializing it. This is the first step in the process of using a class.</p>"
   ]
  },
  {
   "cell_type": "code",
   "execution_count": 1,
   "metadata": {},
   "outputs": [],
   "source": [
    "#parentheses are not needed here\n",
    "class Car():\n",
    "    wheels = 4\n",
    "    color = 'blue'"
   ]
  },
  {
   "cell_type": "markdown",
   "metadata": {},
   "source": [
    "## Using a Class (Instantiating)\n",
    "<p>The process of creating a class is called <i>Instantiating</i>. Each time you create a variable of that type of class, it is referred to as an <i>Instance</i> of that class. This is the second step in the process of using a class.</p>"
   ]
  },
  {
   "cell_type": "markdown",
   "metadata": {},
   "source": [
    "##### Creating One Instance"
   ]
  },
  {
   "cell_type": "code",
   "execution_count": 3,
   "metadata": {},
   "outputs": [
    {
     "name": "stdout",
     "output_type": "stream",
     "text": [
      "4\n",
      "blue\n"
     ]
    }
   ],
   "source": [
    "ford = Car()\n",
    "\n",
    "print(ford.wheels)\n",
    "print(ford.color)"
   ]
  },
  {
   "cell_type": "markdown",
   "metadata": {},
   "source": [
    "##### Creating Multiple Instances"
   ]
  },
  {
   "cell_type": "code",
   "execution_count": 5,
   "metadata": {},
   "outputs": [
    {
     "name": "stdout",
     "output_type": "stream",
     "text": [
      "blue\n",
      "<class 'str'>\n"
     ]
    }
   ],
   "source": [
    "chevy = Car()\n",
    "ferrari = Car()\n",
    "bmw = Car()\n",
    "\n",
    "#all are a car object...all different versions of car\n",
    "# print(bmw)\n",
    "\n",
    "print(bmw.color)\n",
    "print(type(bmw.color))"
   ]
  },
  {
   "cell_type": "markdown",
   "metadata": {},
   "source": [
    "##### In-Class Exercise #1 - Create a Class 'Car' and Instantiate three different makes of cars"
   ]
  },
  {
   "cell_type": "code",
   "execution_count": 9,
   "metadata": {},
   "outputs": [],
   "source": [
    "class Car():\n",
    "    wheels = ''\n",
    "    doors = ''\n",
    "    color = ''\n",
    "    hp = ''\n",
    "    sunroof = ''\n",
    "\n",
    "porsche = Car()\n",
    "mclaren = Car()\n",
    "audi = Car()"
   ]
  },
  {
   "cell_type": "markdown",
   "metadata": {},
   "source": [
    "## The \\__init\\__() Method <br>\n",
    "<p>This method is used in almost every created class, and called only once upon the creation of the class instance. This method will initialize all variables needed for the object.</p>"
   ]
  },
  {
   "cell_type": "code",
   "execution_count": 13,
   "metadata": {},
   "outputs": [
    {
     "data": {
      "text/plain": [
       "'black'"
      ]
     },
     "execution_count": 13,
     "metadata": {},
     "output_type": "execute_result"
    }
   ],
   "source": [
    "class Car:\n",
    "    \n",
    "    engine = 'V8' #constant variable\n",
    "    def __init__(self, wheels, color):\n",
    "        self.wheels = wheels\n",
    "        self.color = color\n",
    "        \n",
    "ford = Car(4,'black')\n",
    "\n",
    "ford.color"
   ]
  },
  {
   "cell_type": "markdown",
   "metadata": {},
   "source": [
    "##### The 'self' Attribute <br>\n",
    "<p>This attribute is required to keep track of specific instance's attributes. Without the self attribute, the program would not know how to reference or keep track of an instance's attributes.</p>"
   ]
  },
  {
   "cell_type": "code",
   "execution_count": 16,
   "metadata": {},
   "outputs": [],
   "source": [
    "# see above"
   ]
  },
  {
   "cell_type": "markdown",
   "metadata": {},
   "source": [
    "## Class Attributes <br>\n",
    "<p>While variables are inside of a class, they are referred to as attributes and not variables. When someone says 'attribute' you know they're speaking about a class. Attributes can be initialized through the init method, or outside of it.</p>"
   ]
  },
  {
   "cell_type": "markdown",
   "metadata": {},
   "source": [
    "##### Initializing Attributes"
   ]
  },
  {
   "cell_type": "code",
   "execution_count": 24,
   "metadata": {},
   "outputs": [
    {
     "data": {
      "text/plain": [
       "True"
      ]
     },
     "execution_count": 24,
     "metadata": {},
     "output_type": "execute_result"
    }
   ],
   "source": [
    "# see above\n",
    "class Toy:\n",
    "    kind = 'Car' # should be something doesnt change frequently or is always the same\n",
    "    \n",
    "    def __init__(self, rooftop, brand, horn):\n",
    "        self.rooftop = rooftop\n",
    "        self.brand = brand\n",
    "        self.horn = horn\n",
    "        \n",
    "truck = Toy(True, 'Tonka', 1)\n",
    "car = Toy(False, 'Hotwheels', 0)\n",
    "\n",
    "truck.rooftop\n",
    "        "
   ]
  },
  {
   "cell_type": "markdown",
   "metadata": {},
   "source": [
    "##### Accessing Class Attributes"
   ]
  },
  {
   "cell_type": "code",
   "execution_count": 20,
   "metadata": {
    "scrolled": true
   },
   "outputs": [
    {
     "data": {
      "text/plain": [
       "'black'"
      ]
     },
     "execution_count": 20,
     "metadata": {},
     "output_type": "execute_result"
    }
   ],
   "source": [
    "# See Above\n",
    "\n",
    "ford.color"
   ]
  },
  {
   "cell_type": "markdown",
   "metadata": {},
   "source": [
    "##### Setting Defaults for Attributes"
   ]
  },
  {
   "cell_type": "code",
   "execution_count": 33,
   "metadata": {},
   "outputs": [
    {
     "name": "stdout",
     "output_type": "stream",
     "text": [
      "Blue\n",
      "4\n"
     ]
    }
   ],
   "source": [
    "class Car:\n",
    "    def __init__(self, wheels):\n",
    "        self.wheels = wheels\n",
    "        self.color = 'Blue'  # default attribute in the init methjod\n",
    "        \n",
    "honda = Car(4)\n",
    "print(honda.color)\n",
    "print(honda.wheels)"
   ]
  },
  {
   "cell_type": "markdown",
   "metadata": {},
   "source": [
    "##### Changing Class Attributes <br>\n",
    "<p>Keep in mind there are global class attributes and then there are attributes only available to each class instance which won't effect other classes.</p>"
   ]
  },
  {
   "cell_type": "code",
   "execution_count": null,
   "metadata": {},
   "outputs": [],
   "source": []
  },
  {
   "cell_type": "code",
   "execution_count": null,
   "metadata": {},
   "outputs": [],
   "source": []
  },
  {
   "cell_type": "markdown",
   "metadata": {},
   "source": [
    "##### In-Class Exercise #2 - Add a doors and seats attribute to your 'Car' class then print out two different instances with different doors and seats"
   ]
  },
  {
   "cell_type": "code",
   "execution_count": 41,
   "metadata": {},
   "outputs": [
    {
     "name": "stdout",
     "output_type": "stream",
     "text": [
      "I have a green\n",
      "orange\n"
     ]
    }
   ],
   "source": [
    "# Use the __init__ method and 'self' keyword to create customizable attributes (2)\n",
    "# instantiate at least 2 cars and print formatted statements describing those cars\n",
    "# EXAMPLE: \"I have a red jeep, it has 1 wheel and it takes diesel fuel\"\n",
    "\n",
    "class Car():\n",
    "    def __init__(self, doors, color, hp, leather):\n",
    "        self.doors = doors\n",
    "        self.color = color\n",
    "        self.hp = hp\n",
    "        self.leather = leather\n",
    "        \n",
    "porsche = Car(2, 'green', 700, True)\n",
    "mclaren = Car(2, 'orange', 650, False)\n",
    "\n",
    "print(f'I have a {porsche.color}')\n",
    "print(mclaren.color)"
   ]
  },
  {
   "cell_type": "markdown",
   "metadata": {},
   "source": [
    "## Class Methods <br>\n",
    "<p>While inside of a class, functions are referred to as 'methods'. If you hear someone mention methods, they're speaking about classes. Methods are essentially functions, but only callable on the instances of a class.</p>"
   ]
  },
  {
   "cell_type": "markdown",
   "metadata": {},
   "source": [
    "##### Creating"
   ]
  },
  {
   "cell_type": "code",
   "execution_count": 94,
   "metadata": {},
   "outputs": [],
   "source": [
    "class ShoppingBag:\n",
    "    \"\"\"\n",
    "    The ShoppingBag class will have handles, capacity, and items to place inside.\n",
    "    \n",
    "    Attributes in thos class:\n",
    "        - handles: expected to be an integer\n",
    "        - capacity: expected to be an integer\n",
    "        - items: expected to be a list\n",
    "    \"\"\"\n",
    "    def __init__(self, handles, capacity, items):\n",
    "        self.handles = handles\n",
    "        self.capacity = capacity\n",
    "        self.items = items\n",
    "        \n",
    "    def showBag(self):\n",
    "        print('Here are the contents of your bag...')\n",
    "        for item in self.items:\n",
    "            print(item) #watch video for rest\n",
    "            \n",
    "    def showCap(self):\n",
    "        print(f'The capacity of your bag is: {self.capacity}')\n",
    "              \n",
    "    def addToBag(self):\n",
    "        product = input('What would you like to add?')\n",
    "        self.items.append(product)\n",
    "        \n",
    "    def changeCap(self, capacity):\n",
    "        self.capacity = capacity\n",
    "        \n",
    "    #increment the c\n",
    "    def increaseCap(self, cap_change = 10):\n",
    "        self.capacity += cap_change\n",
    "        print(f'Your new capacity: {self.capacity}')\n",
    "        \n",
    "        \n",
    "bag = ShoppingBag(2,10,['pear','orange'])"
   ]
  },
  {
   "cell_type": "markdown",
   "metadata": {},
   "source": [
    "##### Calling"
   ]
  },
  {
   "cell_type": "code",
   "execution_count": 100,
   "metadata": {},
   "outputs": [
    {
     "name": "stdout",
     "output_type": "stream",
     "text": [
      "Your new capacity: 610\n",
      "The capacity of your bag is: 2\n"
     ]
    }
   ],
   "source": [
    "# See Above\n",
    "bag.increaseCap(100)\n",
    "\n",
    "bag.showCap\n",
    "\n",
    "\n",
    "canvas = ShoppingBag(4,2,['apple'])\n",
    "canvas.showCap()\n",
    "\n",
    "\n",
    "def run():\n",
    "    kroger = ShoppingBag(2,20,[])\n",
    "    while True:\n",
    "        response = input('What would you like to do? Add/Show/Quit')\n",
    "        \n",
    "        if response.lower() == 'quit':\n",
    "            kroger.showBag()\n",
    "            print('Thanks for shopping!')\n",
    "            break\n",
    "            \n",
    "        elif response.lower() == 'add':\n",
    "            kroger.addToBag()\n",
    "            \n",
    "        elif response.lower() == 'show':\n",
    "            kroger.showBag()\n",
    "            \n",
    "        elif response.lower() == 'change cap':\n",
    "            kroger.showCap()\n",
    "            \n",
    "        else:\n",
    "            "
   ]
  },
  {
   "cell_type": "markdown",
   "metadata": {},
   "source": [
    "##### Modifying an Attribute's Value Through a Method"
   ]
  },
  {
   "cell_type": "code",
   "execution_count": 7,
   "metadata": {},
   "outputs": [
    {
     "name": "stdout",
     "output_type": "stream",
     "text": [
      "{'banana': 0}\n",
      "what?plum\n",
      "{'banana': 0, 'plum': 1}\n"
     ]
    }
   ],
   "source": [
    "items = {'banana':int()}\n",
    "print(items)\n",
    "ui = input('what?')\n",
    "\n",
    "if ui in items:\n",
    "    items[ui] += 1\n",
    "else:\n",
    "    items[ui] = 1\n",
    "\n",
    "print(items)"
   ]
  },
  {
   "cell_type": "markdown",
   "metadata": {},
   "source": [
    "##### Incrementing an Attribute's Value Through a Method"
   ]
  },
  {
   "cell_type": "code",
   "execution_count": null,
   "metadata": {},
   "outputs": [],
   "source": []
  },
  {
   "cell_type": "markdown",
   "metadata": {},
   "source": [
    "##### In-Class Exercise #3 - Add a method that takes in three parameters of year, doors and seats and prints out a formatted print statement with make, model, year, seats, and doors"
   ]
  },
  {
   "cell_type": "code",
   "execution_count": 130,
   "metadata": {},
   "outputs": [],
   "source": [
    "# Create class with 2 paramters inside of the __init__ which are make and model\n",
    "\n",
    "# Inside of the Car class create a method that has 4 parameter in total (self,year,door,seats)\n",
    "\n",
    "# Output: This car is from 2019 and is a Ford Expolorer and has 4 doors and 5 seats\n",
    "\n",
    "class Car:\n",
    "    def __init__(self, make, model):\n",
    "        self.make = make\n",
    "        self.model = model\n",
    "        \n",
    "    def printPreview(self, doors, seats, year):\n",
    "        print(f'This car is from {year} and is a {self.make})\n",
    "\n",
    "porsche = Car('Porsche', \"911\")\n"
   ]
  },
  {
   "cell_type": "markdown",
   "metadata": {},
   "source": [
    "## Inheritance <br>\n",
    "<p>You can create a child-parent relationship between two classes by using inheritance. What this allows you to do is have overriding methods, but also inherit traits from the parent class. Think of it as an actual parent and child, the child will inherit the parent's genes, as will the classes in OOP</p>"
   ]
  },
  {
   "cell_type": "markdown",
   "metadata": {},
   "source": [
    "##### Syntax for Inheriting from a Parent Class"
   ]
  },
  {
   "cell_type": "code",
   "execution_count": 140,
   "metadata": {},
   "outputs": [
    {
     "data": {
      "text/plain": [
       "'Griffin'"
      ]
     },
     "execution_count": 140,
     "metadata": {},
     "output_type": "execute_result"
    }
   ],
   "source": [
    "#create a parent class -- Animal\n",
    "class Animal:\n",
    "    def __init__(self, name, species, legs = 4):\n",
    "        self.name = name\n",
    "        self.species = species\n",
    "        self.legs = legs\n",
    "        \n",
    "    #some generic sound\n",
    "    def makeSound(self):\n",
    "        print('Generic animal noises here!')\n",
    "     \n",
    "    \n",
    "#creation of dog class that inherits everyting from animal\n",
    "class Dog(Animal):\n",
    "    speed = 10\n",
    "    def printInfo(self):\n",
    "        print(f'This dog has {self.speed} mph in speed and {self.legs} legs')\n",
    "\n",
    "new_dog = Dog('Hank','Lab')\n",
    "                  \n",
    "new_dog.name\n",
    "\n",
    "#creation of grandchild\n",
    "class Mut(Dog):\n",
    "    #method override of the og animal method for makesound\n",
    "    def makeSound(self):\n",
    "        noise = 'Bark!'\n",
    "        return noise\n",
    "    \n",
    "griffin = Mut('Griffin', 'who knows')\n",
    "\n",
    "griffin.name\n"
   ]
  },
  {
   "cell_type": "markdown",
   "metadata": {},
   "source": [
    "##### The \\__init\\__() Method for a Child Class - super()"
   ]
  },
  {
   "cell_type": "code",
   "execution_count": null,
   "metadata": {
    "scrolled": true
   },
   "outputs": [],
   "source": [
    "class Mut(Dog):\n",
    "    \n",
    "    #overriding the animal class  _init_ method that Mut inherited through Dog\n",
    "    def __init__(self, species, tail, legs = 4):\n",
    "        super().__init__(name,species,legs)"
   ]
  },
  {
   "cell_type": "markdown",
   "metadata": {},
   "source": [
    "##### Defining Attributes and Methods for the Child Class"
   ]
  },
  {
   "cell_type": "code",
   "execution_count": null,
   "metadata": {},
   "outputs": [],
   "source": [
    "# See Above"
   ]
  },
  {
   "cell_type": "markdown",
   "metadata": {},
   "source": [
    "##### Method Overriding"
   ]
  },
  {
   "cell_type": "code",
   "execution_count": null,
   "metadata": {},
   "outputs": [],
   "source": [
    "# See Above"
   ]
  },
  {
   "cell_type": "markdown",
   "metadata": {},
   "source": [
    "## Classes as Attributes <br>\n",
    "<p>Classes can also be used as attributes within another class. This is useful in situations where you need to keep variables locally stored, instead of globally stored.</p>"
   ]
  },
  {
   "cell_type": "code",
   "execution_count": 146,
   "metadata": {},
   "outputs": [
    {
     "data": {
      "text/plain": [
       "'2022 Rivian R1T has a battery with 60 volts and 20 cells'"
      ]
     },
     "execution_count": 146,
     "metadata": {},
     "output_type": "execute_result"
    }
   ],
   "source": [
    "class Battery:\n",
    "    def __init__(self, cells, volts):\n",
    "        self.cells = cells\n",
    "        self.volts = volts\n",
    "        \n",
    "class Car:\n",
    "    def __init__(self, year, make, model, battery):\n",
    "        self.year = year\n",
    "        self.make = make\n",
    "        self.model = model\n",
    "        self.battery = battery\n",
    "        \n",
    "\n",
    "    def printInfo(self):\n",
    "        return f'{self.year} {self.make} {self.model} has a battery with {self.battery.volts} volts and {self.battery.cells} cells'\n",
    "\n",
    "battery = Battery(20,60)\n",
    "\n",
    "rivian = Car(2022, 'Rivian', 'R1T', battery)\n",
    "\n",
    "rivian.printInfo()\n",
    "\n"
   ]
  },
  {
   "cell_type": "markdown",
   "metadata": {},
   "source": [
    "# Exercises"
   ]
  },
  {
   "cell_type": "markdown",
   "metadata": {},
   "source": [
    "### Exercise 1 - Turn the shopping cart program from yesterday into an object-oriented program\n",
    "\n",
    "The comments in the cell below are there as a guide for thinking about the problem. However, if you feel a different way is best for you and your own thought process, please do what feels best for you by all means."
   ]
  },
  {
   "cell_type": "code",
   "execution_count": 11,
   "metadata": {},
   "outputs": [
    {
     "name": "stdout",
     "output_type": "stream",
     "text": [
      "What would you like to do? add/remove/show/quitquit\n",
      "Here are the contents of your bag...\n",
      "Thanks for shopping!\n"
     ]
    }
   ],
   "source": [
    "# Create a class called cart that retains items and has methods to add, remove, and show\n",
    "\n",
    "class Cart():\n",
    "    \n",
    "    def __init__(self, capacity, items):\n",
    "        self.capacity = capacity\n",
    "        self.items = items\n",
    "    \n",
    "    def addToBag(self):\n",
    "        product = input('What would you like to add?')\n",
    "        self.items.append(product)\n",
    "        \n",
    "    def removeFromBag(self):\n",
    "        product = input('What would you like to remove?')\n",
    "        self.items.remove(product)\n",
    "        \n",
    "    def showBag(self):\n",
    "        print('Here are the contents of your bag...')\n",
    "        for item in self.items:\n",
    "            print(item)\n",
    "            \n",
    "def run():\n",
    "    \n",
    "    market = Cart(30,[])\n",
    "    \n",
    "    while True:\n",
    "        \n",
    "        ask = input('What would you like to do? add/remove/show/quit')\n",
    "        \n",
    "        if ask.lower() == 'quit':\n",
    "            market.showBag()\n",
    "            print('Thanks for shopping!')\n",
    "            break\n",
    "            \n",
    "        elif ask.lower() == 'add':\n",
    "            market.addToBag()\n",
    "        \n",
    "        elif ask.lower() == 'remove':\n",
    "            market.removeFromBag()\n",
    "        \n",
    "        elif ask.lower() == 'show':\n",
    "            market.showBag()\n",
    "            \n",
    "        else:\n",
    "            print('Please enter a valid command')\n",
    "            \n",
    "        \n",
    "run()"
   ]
  },
  {
   "cell_type": "markdown",
   "metadata": {},
   "source": [
    "### Exercise 2 - Write a Python class which has two methods get_String and print_String. get_String accept a string from the user and print_String print the string in upper case"
   ]
  },
  {
   "cell_type": "code",
   "execution_count": null,
   "metadata": {},
   "outputs": [
    {
     "name": "stdout",
     "output_type": "stream",
     "text": [
      "What would you like to do? input or viewinput\n",
      "Please enter a stringuppercase\n",
      "What would you like to do? input or viewinput\n",
      "Please enter a stringlowercase\n",
      "What would you like to do? input or viewview\n",
      "These are your strings:\n",
      "UPPERCASE\n",
      "LOWERCASE\n"
     ]
    }
   ],
   "source": [
    "class Strings():\n",
    "    \n",
    "    def __init__(self, capacity, items):\n",
    "        self.capacity = capacity\n",
    "        self.items = items\n",
    "\n",
    "    def get_String(self):\n",
    "        ask = input('Please enter a string')\n",
    "        self.items.append(ask)\n",
    "        \n",
    "    def print_String(self):\n",
    "        print(\"These are your strings:\")\n",
    "        for item in self.items:\n",
    "            print(item.upper())\n",
    "\n",
    "def run():\n",
    "    \n",
    "    test = Strings(5,[])\n",
    "    \n",
    "    while True:\n",
    "        \n",
    "        ask = input('What would you like to do? input or view')\n",
    "        \n",
    "        if ask.lower() == 'input':\n",
    "            test.get_String()\n",
    "            \n",
    "        elif ask.lower() == 'view':\n",
    "            test.print_String()\n",
    "            \n",
    "        else:\n",
    "            print('Please enter a valid command')\n",
    "\n",
    "run()"
   ]
  },
  {
   "cell_type": "code",
   "execution_count": null,
   "metadata": {},
   "outputs": [],
   "source": []
  }
 ],
 "metadata": {
  "kernelspec": {
   "display_name": "Python 3",
   "language": "python",
   "name": "python3"
  },
  "language_info": {
   "codemirror_mode": {
    "name": "ipython",
    "version": 3
   },
   "file_extension": ".py",
   "mimetype": "text/x-python",
   "name": "python",
   "nbconvert_exporter": "python",
   "pygments_lexer": "ipython3",
   "version": "3.8.8"
  }
 },
 "nbformat": 4,
 "nbformat_minor": 2
}
